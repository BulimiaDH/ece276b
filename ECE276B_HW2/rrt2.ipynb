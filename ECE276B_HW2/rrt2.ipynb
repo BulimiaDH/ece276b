{
 "cells": [
  {
   "cell_type": "markdown",
   "metadata": {},
   "source": [
    "# RRT implementation to practice RAMP\n",
    "Based off https://github.com/AtsushiSakai/PythonRobotics/blob/master/PathPlanning/RRTstar/rrt_star.py"
   ]
  },
  {
   "cell_type": "code",
   "execution_count": 1,
   "metadata": {},
   "outputs": [],
   "source": [
    "import math\n",
    "import copy\n",
    "import numpy as np\n",
    "import matplotlib.pyplot as plt\n",
    "import networkx as nx"
   ]
  },
  {
   "cell_type": "code",
   "execution_count": 2,
   "metadata": {},
   "outputs": [],
   "source": [
    "# ENVIRONMENT\n",
    "bounds = { 'x': (0, 10),\n",
    "           'y': (0, 10)\n",
    "         }\n",
    "\n",
    "start_pt = [1,1]\n",
    "goal_pt = [5,6]\n",
    "\n",
    "\n",
    "# All obstacles here are circles centered at ([0], [1]) with radius [2]\n",
    "obstacle_list = [[5,5,1], [2,6,3], [4,4.5,2], [6,4,2]];\n",
    "\n",
    "delta = 2\n",
    "ddelta = 0.05\n",
    "\n",
    "    "
   ]
  },
  {
   "cell_type": "code",
   "execution_count": 20,
   "metadata": {},
   "outputs": [],
   "source": [
    "def print_tree(G):\n",
    "    for (e1,e2) in G['edges']:\n",
    "        x = [G['nodes'][e1][0], G['nodes'][e2][0]]\n",
    "        y = [G['nodes'][e1][1], G['nodes'][e2][1]]\n",
    "        plt.plot(x,y,'g')\n",
    "        \n",
    "def plot_env(pt=None, ptStyle='og', G=None, obstacle_list=obstacle_list, start_pt=start_pt, goal_pt=goal_pt, bounds=bounds):\n",
    "    plt.clf()\n",
    "    for (obx, oby, obr) in obstacle_list:\n",
    "        plt.plot(obx, oby, \"ok\", ms=30 * obr)\n",
    "    plt.plot(start_pt[0], start_pt[1], \"xb\")\n",
    "    plt.plot(goal_pt[0], goal_pt[1], \"xr\")\n",
    "    if pt:\n",
    "        plt.plot(pt[0], pt[1], ptStyle)\n",
    "    if G:\n",
    "        print_tree(G)\n",
    "    \n",
    "    plt.axis([bounds['x'][0], bounds['x'][1], bounds['y'][0], bounds['y'][1]])\n",
    "    \n",
    "def dist(pt1, pt2):\n",
    "    return ((pt1[0]-pt2[0])**2 + (pt1[1]-pt2[1])**2)**0.5\n",
    "\n",
    "def angle(pt1,pt2):\n",
    "    return math.atan( (pt2[1]-pt1[1])/(pt2[0]-pt1[0]) )\n",
    "\n",
    "# TRUE means there was a collision\n",
    "def check_collisions(pt, obstacle_list=obstacle_list):\n",
    "    for (obx, oby, obr) in obstacle_list:\n",
    "        if ( dist(pt, [obx,oby]) <= obr ):\n",
    "            return True\n",
    "    return False\n",
    "\n",
    "def check_collisions_between(pt1, pt2, delta=delta, ddelta=ddelta):\n",
    "    # Check for collisions along the way\n",
    "    theta = angle(pt1,pt2)\n",
    "    waypoint = copy.deepcopy(pt1)\n",
    "    collision = False\n",
    "    dd=ddelta\n",
    "    while (dd < delta) and not collision:\n",
    "        waypoint[0] += ddelta*math.cos(theta)\n",
    "        waypoint[1] += ddelta*math.sin(theta)\n",
    "        dd += ddelta\n",
    "        collision = check_collisions(waypoint)\n",
    "    return collision\n",
    "\n",
    "def rand_free_pt(bounds=bounds):\n",
    "    # Randomly sample a location\n",
    "    rand_pt = [ np.random.uniform(bounds['x'][0], bounds['x'][1]), \n",
    "                np.random.uniform(bounds['y'][0], bounds['y'][1]) ]\n",
    "\n",
    "    # Resample if it's in an obstacle\n",
    "    while( check_collisions(rand_pt) ):\n",
    "        rand_pt = [ np.random.uniform(bounds['x'][0], bounds['x'][1]), \n",
    "                    np.random.uniform(bounds['y'][0], bounds['y'][1]) ]\n",
    "        \n",
    "    return rand_pt"
   ]
  },
  {
   "cell_type": "code",
   "execution_count": 21,
   "metadata": {},
   "outputs": [
    {
     "data": {
      "image/png": "[encoded data removed]",
      "text/plain": [
       "<matplotlib.figure.Figure at 0x1514feee80>"
      ]
     },
     "metadata": {},
     "output_type": "display_data"
    }
   ],
   "source": [
    "plot_env()"
   ]
  },
  {
   "cell_type": "code",
   "execution_count": 50,
   "metadata": {},
   "outputs": [
    {
     "name": "stdout",
     "output_type": "stream",
     "text": [
      "Goal reached\n"
     ]
    }
   ],
   "source": [
    "# Graph\n",
    "G = {\n",
    "        \"nodes\" : [start_pt],\n",
    "        \"edges\" : dict()\n",
    "    }\n",
    "\n",
    "# def get_nearest_node(rand_pt,G,bounds=bounds):\n",
    "    \n",
    "\n",
    "# ## RRT!\n",
    "MAX_ITERS = 10000\n",
    "goal = False\n",
    "iters = 0\n",
    "while not goal and iters < MAX_ITERS:\n",
    "    \n",
    "    rand_pt = rand_free_pt();\n",
    "    \n",
    "    # Find nearest node\n",
    "    min_dist = dist((bounds['x'][0], bounds['y'][0]), (bounds['x'][1], bounds['y'][1]))\n",
    "    for i,node in enumerate(G['nodes']):\n",
    "        d = dist(rand_pt,node)\n",
    "        if d < min_dist:\n",
    "            min_dist = d\n",
    "            nearest_node_index = i\n",
    "            nearest_node = node \n",
    "\n",
    "    # If rand_pt is more than a delta away from the nearest node, make proxy point \n",
    "    # delta away in direction of rand_pt.\n",
    "    if (min_dist > delta):\n",
    "        theta = angle(nearest_node,rand_pt)\n",
    "        rand_pt = [ nearest_node[0] + delta*math.cos(theta),\n",
    "                    nearest_node[1] + delta*math.sin(theta)]\n",
    "    # Check if there are any collisions between nearest node and (possibly updated) rand_pt\n",
    "    if not check_collisions_between(nearest_node,rand_pt):\n",
    "        G['nodes'].append(rand_pt)\n",
    "        G['edges'].update({(len(G['nodes'])-1) : int(nearest_node_index)}) # key=child, value=parent -- makes it easy\n",
    "                                                                        # to search for parent of child    \n",
    "        # End condition\n",
    "        goal_unc = 0.3\n",
    "        if ( dist(rand_pt,goal_pt)<goal_unc ):\n",
    "            goal = True\n",
    "    \n",
    "    iters += 1\n",
    "\n",
    "if goal:\n",
    "    print('Goal reached')\n",
    "else:\n",
    "    print('No luck')\n"
   ]
  },
  {
   "cell_type": "code",
   "execution_count": 51,
   "metadata": {},
   "outputs": [
    {
     "data": {
      "image/png": "[encoded data removed]",
      "text/plain": [
       "<matplotlib.figure.Figure at 0x10e2893c8>"
      ]
     },
     "metadata": {},
     "output_type": "display_data"
    }
   ],
   "source": [
    "# Backtrack to find correct path\n",
    "\n",
    "# Find parent of this node\n",
    "path = [ len(G['nodes'])-1 ]\n",
    "while( G['nodes'][path[-1]] != start_pt ):\n",
    "    child = path[-1]\n",
    "    parent = G['edges'][child]\n",
    "    path.append(parent)\n",
    "    \n",
    "# Plot found path\n",
    "plot_env()\n",
    "last_pt = G['nodes'][path[0]]\n",
    "for ind in path:\n",
    "    pt = G['nodes'][ind]\n",
    "    plt.plot([last_pt[0], pt[0]], [last_pt[1], pt[1]], 'g')\n",
    "    plt.plot(pt[0],pt[1],'*g')\n",
    "    last_pt = pt"
   ]
  }
 ],
 "metadata": {
  "kernelspec": {
   "display_name": "Python 3",
   "language": "python",
   "name": "python3"
  },
  "language_info": {
   "codemirror_mode": {
    "name": "ipython",
    "version": 3
   },
   "file_extension": ".py",
   "mimetype": "text/x-python",
   "name": "python",
   "nbconvert_exporter": "python",
   "pygments_lexer": "ipython3",
   "version": "3.6.5"
  }
 },
 "nbformat": 4,
 "nbformat_minor": 2
}
